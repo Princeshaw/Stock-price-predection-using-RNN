{
 "cells": [
  {
   "cell_type": "code",
   "execution_count": 1,
   "metadata": {},
   "outputs": [],
   "source": [
    "import yfinance as yf"
   ]
  },
  {
   "cell_type": "code",
   "execution_count": 11,
   "metadata": {},
   "outputs": [],
   "source": [
    "import pandas as pd\n",
    "import numpy as np\n",
    "import matplotlib.pyplot as plt"
   ]
  },
  {
   "cell_type": "code",
   "execution_count": 137,
   "metadata": {},
   "outputs": [],
   "source": [
    "msft = yf.Ticker(\"MSFT\")"
   ]
  },
  {
   "cell_type": "code",
   "execution_count": 138,
   "metadata": {},
   "outputs": [],
   "source": [
    "dataset = msft.history(period=\"5y\")"
   ]
  },
  {
   "cell_type": "code",
   "execution_count": 139,
   "metadata": {},
   "outputs": [
    {
     "data": {
      "text/html": [
       "<div>\n",
       "<style scoped>\n",
       "    .dataframe tbody tr th:only-of-type {\n",
       "        vertical-align: middle;\n",
       "    }\n",
       "\n",
       "    .dataframe tbody tr th {\n",
       "        vertical-align: top;\n",
       "    }\n",
       "\n",
       "    .dataframe thead th {\n",
       "        text-align: right;\n",
       "    }\n",
       "</style>\n",
       "<table border=\"1\" class=\"dataframe\">\n",
       "  <thead>\n",
       "    <tr style=\"text-align: right;\">\n",
       "      <th></th>\n",
       "      <th>Open</th>\n",
       "      <th>High</th>\n",
       "      <th>Low</th>\n",
       "      <th>Close</th>\n",
       "      <th>Volume</th>\n",
       "      <th>Dividends</th>\n",
       "      <th>Stock Splits</th>\n",
       "    </tr>\n",
       "    <tr>\n",
       "      <th>Date</th>\n",
       "      <th></th>\n",
       "      <th></th>\n",
       "      <th></th>\n",
       "      <th></th>\n",
       "      <th></th>\n",
       "      <th></th>\n",
       "      <th></th>\n",
       "    </tr>\n",
       "  </thead>\n",
       "  <tbody>\n",
       "    <tr>\n",
       "      <th>2015-09-08</th>\n",
       "      <td>39.35</td>\n",
       "      <td>39.99</td>\n",
       "      <td>39.26</td>\n",
       "      <td>39.89</td>\n",
       "      <td>32469800</td>\n",
       "      <td>0.0</td>\n",
       "      <td>0</td>\n",
       "    </tr>\n",
       "    <tr>\n",
       "      <th>2015-09-09</th>\n",
       "      <td>40.18</td>\n",
       "      <td>40.35</td>\n",
       "      <td>39.00</td>\n",
       "      <td>39.14</td>\n",
       "      <td>33469500</td>\n",
       "      <td>0.0</td>\n",
       "      <td>0</td>\n",
       "    </tr>\n",
       "    <tr>\n",
       "      <th>2015-09-10</th>\n",
       "      <td>39.19</td>\n",
       "      <td>39.80</td>\n",
       "      <td>38.85</td>\n",
       "      <td>39.34</td>\n",
       "      <td>31366600</td>\n",
       "      <td>0.0</td>\n",
       "      <td>0</td>\n",
       "    </tr>\n",
       "    <tr>\n",
       "      <th>2015-09-11</th>\n",
       "      <td>39.21</td>\n",
       "      <td>39.61</td>\n",
       "      <td>39.02</td>\n",
       "      <td>39.51</td>\n",
       "      <td>27132500</td>\n",
       "      <td>0.0</td>\n",
       "      <td>0</td>\n",
       "    </tr>\n",
       "    <tr>\n",
       "      <th>2015-09-14</th>\n",
       "      <td>39.47</td>\n",
       "      <td>39.48</td>\n",
       "      <td>38.95</td>\n",
       "      <td>39.11</td>\n",
       "      <td>23656000</td>\n",
       "      <td>0.0</td>\n",
       "      <td>0</td>\n",
       "    </tr>\n",
       "    <tr>\n",
       "      <th>...</th>\n",
       "      <td>...</td>\n",
       "      <td>...</td>\n",
       "      <td>...</td>\n",
       "      <td>...</td>\n",
       "      <td>...</td>\n",
       "      <td>...</td>\n",
       "      <td>...</td>\n",
       "    </tr>\n",
       "    <tr>\n",
       "      <th>2020-08-31</th>\n",
       "      <td>227.00</td>\n",
       "      <td>228.70</td>\n",
       "      <td>224.31</td>\n",
       "      <td>225.53</td>\n",
       "      <td>28774200</td>\n",
       "      <td>0.0</td>\n",
       "      <td>0</td>\n",
       "    </tr>\n",
       "    <tr>\n",
       "      <th>2020-09-01</th>\n",
       "      <td>225.51</td>\n",
       "      <td>227.45</td>\n",
       "      <td>224.43</td>\n",
       "      <td>227.27</td>\n",
       "      <td>25791200</td>\n",
       "      <td>0.0</td>\n",
       "      <td>0</td>\n",
       "    </tr>\n",
       "    <tr>\n",
       "      <th>2020-09-02</th>\n",
       "      <td>227.97</td>\n",
       "      <td>232.86</td>\n",
       "      <td>227.35</td>\n",
       "      <td>231.65</td>\n",
       "      <td>34080800</td>\n",
       "      <td>0.0</td>\n",
       "      <td>0</td>\n",
       "    </tr>\n",
       "    <tr>\n",
       "      <th>2020-09-03</th>\n",
       "      <td>229.27</td>\n",
       "      <td>229.31</td>\n",
       "      <td>214.96</td>\n",
       "      <td>217.30</td>\n",
       "      <td>58148900</td>\n",
       "      <td>0.0</td>\n",
       "      <td>0</td>\n",
       "    </tr>\n",
       "    <tr>\n",
       "      <th>2020-09-04</th>\n",
       "      <td>215.10</td>\n",
       "      <td>218.36</td>\n",
       "      <td>205.19</td>\n",
       "      <td>214.25</td>\n",
       "      <td>56783337</td>\n",
       "      <td>0.0</td>\n",
       "      <td>0</td>\n",
       "    </tr>\n",
       "  </tbody>\n",
       "</table>\n",
       "<p>1259 rows × 7 columns</p>\n",
       "</div>"
      ],
      "text/plain": [
       "              Open    High     Low   Close    Volume  Dividends  Stock Splits\n",
       "Date                                                                         \n",
       "2015-09-08   39.35   39.99   39.26   39.89  32469800        0.0             0\n",
       "2015-09-09   40.18   40.35   39.00   39.14  33469500        0.0             0\n",
       "2015-09-10   39.19   39.80   38.85   39.34  31366600        0.0             0\n",
       "2015-09-11   39.21   39.61   39.02   39.51  27132500        0.0             0\n",
       "2015-09-14   39.47   39.48   38.95   39.11  23656000        0.0             0\n",
       "...            ...     ...     ...     ...       ...        ...           ...\n",
       "2020-08-31  227.00  228.70  224.31  225.53  28774200        0.0             0\n",
       "2020-09-01  225.51  227.45  224.43  227.27  25791200        0.0             0\n",
       "2020-09-02  227.97  232.86  227.35  231.65  34080800        0.0             0\n",
       "2020-09-03  229.27  229.31  214.96  217.30  58148900        0.0             0\n",
       "2020-09-04  215.10  218.36  205.19  214.25  56783337        0.0             0\n",
       "\n",
       "[1259 rows x 7 columns]"
      ]
     },
     "execution_count": 139,
     "metadata": {},
     "output_type": "execute_result"
    }
   ],
   "source": [
    "dataset"
   ]
  },
  {
   "cell_type": "code",
   "execution_count": 140,
   "metadata": {},
   "outputs": [],
   "source": [
    "dataset['Date'] = dataset.index"
   ]
  },
  {
   "cell_type": "code",
   "execution_count": 141,
   "metadata": {},
   "outputs": [
    {
     "data": {
      "text/html": [
       "<div>\n",
       "<style scoped>\n",
       "    .dataframe tbody tr th:only-of-type {\n",
       "        vertical-align: middle;\n",
       "    }\n",
       "\n",
       "    .dataframe tbody tr th {\n",
       "        vertical-align: top;\n",
       "    }\n",
       "\n",
       "    .dataframe thead th {\n",
       "        text-align: right;\n",
       "    }\n",
       "</style>\n",
       "<table border=\"1\" class=\"dataframe\">\n",
       "  <thead>\n",
       "    <tr style=\"text-align: right;\">\n",
       "      <th></th>\n",
       "      <th>Open</th>\n",
       "      <th>High</th>\n",
       "      <th>Low</th>\n",
       "      <th>Close</th>\n",
       "      <th>Volume</th>\n",
       "      <th>Dividends</th>\n",
       "      <th>Stock Splits</th>\n",
       "      <th>Date</th>\n",
       "    </tr>\n",
       "    <tr>\n",
       "      <th>Date</th>\n",
       "      <th></th>\n",
       "      <th></th>\n",
       "      <th></th>\n",
       "      <th></th>\n",
       "      <th></th>\n",
       "      <th></th>\n",
       "      <th></th>\n",
       "      <th></th>\n",
       "    </tr>\n",
       "  </thead>\n",
       "  <tbody>\n",
       "    <tr>\n",
       "      <th>2015-09-08</th>\n",
       "      <td>39.35</td>\n",
       "      <td>39.99</td>\n",
       "      <td>39.26</td>\n",
       "      <td>39.89</td>\n",
       "      <td>32469800</td>\n",
       "      <td>0.0</td>\n",
       "      <td>0</td>\n",
       "      <td>2015-09-08</td>\n",
       "    </tr>\n",
       "    <tr>\n",
       "      <th>2015-09-09</th>\n",
       "      <td>40.18</td>\n",
       "      <td>40.35</td>\n",
       "      <td>39.00</td>\n",
       "      <td>39.14</td>\n",
       "      <td>33469500</td>\n",
       "      <td>0.0</td>\n",
       "      <td>0</td>\n",
       "      <td>2015-09-09</td>\n",
       "    </tr>\n",
       "    <tr>\n",
       "      <th>2015-09-10</th>\n",
       "      <td>39.19</td>\n",
       "      <td>39.80</td>\n",
       "      <td>38.85</td>\n",
       "      <td>39.34</td>\n",
       "      <td>31366600</td>\n",
       "      <td>0.0</td>\n",
       "      <td>0</td>\n",
       "      <td>2015-09-10</td>\n",
       "    </tr>\n",
       "    <tr>\n",
       "      <th>2015-09-11</th>\n",
       "      <td>39.21</td>\n",
       "      <td>39.61</td>\n",
       "      <td>39.02</td>\n",
       "      <td>39.51</td>\n",
       "      <td>27132500</td>\n",
       "      <td>0.0</td>\n",
       "      <td>0</td>\n",
       "      <td>2015-09-11</td>\n",
       "    </tr>\n",
       "    <tr>\n",
       "      <th>2015-09-14</th>\n",
       "      <td>39.47</td>\n",
       "      <td>39.48</td>\n",
       "      <td>38.95</td>\n",
       "      <td>39.11</td>\n",
       "      <td>23656000</td>\n",
       "      <td>0.0</td>\n",
       "      <td>0</td>\n",
       "      <td>2015-09-14</td>\n",
       "    </tr>\n",
       "    <tr>\n",
       "      <th>...</th>\n",
       "      <td>...</td>\n",
       "      <td>...</td>\n",
       "      <td>...</td>\n",
       "      <td>...</td>\n",
       "      <td>...</td>\n",
       "      <td>...</td>\n",
       "      <td>...</td>\n",
       "      <td>...</td>\n",
       "    </tr>\n",
       "    <tr>\n",
       "      <th>2020-08-31</th>\n",
       "      <td>227.00</td>\n",
       "      <td>228.70</td>\n",
       "      <td>224.31</td>\n",
       "      <td>225.53</td>\n",
       "      <td>28774200</td>\n",
       "      <td>0.0</td>\n",
       "      <td>0</td>\n",
       "      <td>2020-08-31</td>\n",
       "    </tr>\n",
       "    <tr>\n",
       "      <th>2020-09-01</th>\n",
       "      <td>225.51</td>\n",
       "      <td>227.45</td>\n",
       "      <td>224.43</td>\n",
       "      <td>227.27</td>\n",
       "      <td>25791200</td>\n",
       "      <td>0.0</td>\n",
       "      <td>0</td>\n",
       "      <td>2020-09-01</td>\n",
       "    </tr>\n",
       "    <tr>\n",
       "      <th>2020-09-02</th>\n",
       "      <td>227.97</td>\n",
       "      <td>232.86</td>\n",
       "      <td>227.35</td>\n",
       "      <td>231.65</td>\n",
       "      <td>34080800</td>\n",
       "      <td>0.0</td>\n",
       "      <td>0</td>\n",
       "      <td>2020-09-02</td>\n",
       "    </tr>\n",
       "    <tr>\n",
       "      <th>2020-09-03</th>\n",
       "      <td>229.27</td>\n",
       "      <td>229.31</td>\n",
       "      <td>214.96</td>\n",
       "      <td>217.30</td>\n",
       "      <td>58148900</td>\n",
       "      <td>0.0</td>\n",
       "      <td>0</td>\n",
       "      <td>2020-09-03</td>\n",
       "    </tr>\n",
       "    <tr>\n",
       "      <th>2020-09-04</th>\n",
       "      <td>215.10</td>\n",
       "      <td>218.36</td>\n",
       "      <td>205.19</td>\n",
       "      <td>214.25</td>\n",
       "      <td>56783337</td>\n",
       "      <td>0.0</td>\n",
       "      <td>0</td>\n",
       "      <td>2020-09-04</td>\n",
       "    </tr>\n",
       "  </tbody>\n",
       "</table>\n",
       "<p>1259 rows × 8 columns</p>\n",
       "</div>"
      ],
      "text/plain": [
       "              Open    High     Low   Close    Volume  Dividends  Stock Splits  \\\n",
       "Date                                                                            \n",
       "2015-09-08   39.35   39.99   39.26   39.89  32469800        0.0             0   \n",
       "2015-09-09   40.18   40.35   39.00   39.14  33469500        0.0             0   \n",
       "2015-09-10   39.19   39.80   38.85   39.34  31366600        0.0             0   \n",
       "2015-09-11   39.21   39.61   39.02   39.51  27132500        0.0             0   \n",
       "2015-09-14   39.47   39.48   38.95   39.11  23656000        0.0             0   \n",
       "...            ...     ...     ...     ...       ...        ...           ...   \n",
       "2020-08-31  227.00  228.70  224.31  225.53  28774200        0.0             0   \n",
       "2020-09-01  225.51  227.45  224.43  227.27  25791200        0.0             0   \n",
       "2020-09-02  227.97  232.86  227.35  231.65  34080800        0.0             0   \n",
       "2020-09-03  229.27  229.31  214.96  217.30  58148900        0.0             0   \n",
       "2020-09-04  215.10  218.36  205.19  214.25  56783337        0.0             0   \n",
       "\n",
       "                 Date  \n",
       "Date                   \n",
       "2015-09-08 2015-09-08  \n",
       "2015-09-09 2015-09-09  \n",
       "2015-09-10 2015-09-10  \n",
       "2015-09-11 2015-09-11  \n",
       "2015-09-14 2015-09-14  \n",
       "...               ...  \n",
       "2020-08-31 2020-08-31  \n",
       "2020-09-01 2020-09-01  \n",
       "2020-09-02 2020-09-02  \n",
       "2020-09-03 2020-09-03  \n",
       "2020-09-04 2020-09-04  \n",
       "\n",
       "[1259 rows x 8 columns]"
      ]
     },
     "execution_count": 141,
     "metadata": {},
     "output_type": "execute_result"
    }
   ],
   "source": [
    "dataset"
   ]
  },
  {
   "cell_type": "code",
   "execution_count": 142,
   "metadata": {},
   "outputs": [
    {
     "data": {
      "text/plain": [
       "[<matplotlib.lines.Line2D at 0x20d189a8d08>]"
      ]
     },
     "execution_count": 142,
     "metadata": {},
     "output_type": "execute_result"
    },
    {
     "data": {
      "image/png": "[encoded data removed]",
      "text/plain": [
       "<Figure size 1152x576 with 1 Axes>"
      ]
     },
     "metadata": {
      "needs_background": "light"
     },
     "output_type": "display_data"
    }
   ],
   "source": [
    "dataset[\"Date\"]=pd.to_datetime(dataset['Date'],format=\"%Y-%m-%d\")\n",
    "dataset.index=dataset['Date']\n",
    "plt.figure(figsize=(16,8))\n",
    "plt.plot(dataset[\"Close\"],label='Close Price history')"
   ]
  },
  {
   "cell_type": "code",
   "execution_count": null,
   "metadata": {},
   "outputs": [],
   "source": []
  },
  {
   "cell_type": "code",
   "execution_count": 143,
   "metadata": {},
   "outputs": [],
   "source": [
    "training_set = dataset.iloc[:1000,1:2].values\n",
    "testing_set = dataset.iloc[1000:,1:2].values"
   ]
  },
  {
   "cell_type": "code",
   "execution_count": null,
   "metadata": {},
   "outputs": [],
   "source": []
  },
  {
   "cell_type": "code",
   "execution_count": 144,
   "metadata": {},
   "outputs": [],
   "source": [
    "from sklearn.preprocessing import MinMaxScaler"
   ]
  },
  {
   "cell_type": "code",
   "execution_count": 145,
   "metadata": {},
   "outputs": [],
   "source": [
    "sc = MinMaxScaler(feature_range=(0,1))\n",
    "training_set_scaled = sc.fit_transform(training_set)"
   ]
  },
  {
   "cell_type": "markdown",
   "metadata": {},
   "source": [
    "# creating data structures with a 60  timestamp to predict one data"
   ]
  },
  {
   "cell_type": "code",
   "execution_count": 146,
   "metadata": {},
   "outputs": [],
   "source": [
    "X_train = []\n",
    "y_train = []\n",
    "for i in range(60,len(training_set_scaled)):\n",
    "    X_train.append(training_set_scaled[i-60:i,0])\n",
    "    y_train.append(training_set_scaled[i,0])"
   ]
  },
  {
   "cell_type": "code",
   "execution_count": 147,
   "metadata": {},
   "outputs": [],
   "source": [
    "X_train,y_train = np.array(X_train),np.array(y_train)"
   ]
  },
  {
   "cell_type": "code",
   "execution_count": 148,
   "metadata": {},
   "outputs": [],
   "source": [
    "X_train = np.reshape(X_train,(X_train.shape[0],X_train.shape[1],1))"
   ]
  },
  {
   "cell_type": "code",
   "execution_count": 149,
   "metadata": {},
   "outputs": [],
   "source": [
    "from tensorflow.keras.models import Sequential\n",
    "from tensorflow.keras.layers import Dense\n",
    "from tensorflow.keras.layers import LSTM\n",
    "from tensorflow.keras.layers import Dropout"
   ]
  },
  {
   "cell_type": "markdown",
   "metadata": {},
   "source": [
    "# Initialising the RNN"
   ]
  },
  {
   "cell_type": "code",
   "execution_count": 150,
   "metadata": {},
   "outputs": [],
   "source": [
    "regressor  = Sequential()"
   ]
  },
  {
   "cell_type": "code",
   "execution_count": 151,
   "metadata": {},
   "outputs": [],
   "source": [
    "regressor.add(LSTM(units=50,return_sequences=True,input_shape=(X_train.shape[1],1)))\n",
    "regressor.add(Dropout(0.2))"
   ]
  },
  {
   "cell_type": "code",
   "execution_count": 152,
   "metadata": {},
   "outputs": [],
   "source": [
    "regressor.add(LSTM(units=50,return_sequences=True))\n",
    "regressor.add(Dropout(0.2))"
   ]
  },
  {
   "cell_type": "code",
   "execution_count": 153,
   "metadata": {},
   "outputs": [],
   "source": [
    "regressor.add(LSTM(units=50,return_sequences=True))\n",
    "regressor.add(Dropout(0.2))"
   ]
  },
  {
   "cell_type": "code",
   "execution_count": 154,
   "metadata": {},
   "outputs": [],
   "source": [
    "regressor.add(LSTM(units=50))\n",
    "regressor.add(Dropout(0.2))"
   ]
  },
  {
   "cell_type": "code",
   "execution_count": 155,
   "metadata": {},
   "outputs": [],
   "source": [
    "regressor.add(Dense(units=1))"
   ]
  },
  {
   "cell_type": "code",
   "execution_count": 156,
   "metadata": {},
   "outputs": [],
   "source": [
    "regressor.compile(optimizer='adam',loss='mean_squared_error',)"
   ]
  },
  {
   "cell_type": "code",
   "execution_count": 157,
   "metadata": {},
   "outputs": [
    {
     "name": "stdout",
     "output_type": "stream",
     "text": [
      "Train on 940 samples\n",
      "Epoch 1/100\n",
      "940/940 [==============================] - 8s 9ms/sample - loss: 0.0360\n",
      "Epoch 2/100\n",
      "940/940 [==============================] - 3s 4ms/sample - loss: 0.0051\n",
      "Epoch 3/100\n",
      "940/940 [==============================] - 3s 3ms/sample - loss: 0.0034\n",
      "Epoch 4/100\n",
      "940/940 [==============================] - 3s 3ms/sample - loss: 0.0029\n",
      "Epoch 5/100\n",
      "940/940 [==============================] - 3s 3ms/sample - loss: 0.0033\n",
      "Epoch 6/100\n",
      "940/940 [==============================] - 3s 3ms/sample - loss: 0.0030\n",
      "Epoch 7/100\n",
      "940/940 [==============================] - 4s 4ms/sample - loss: 0.0028\n",
      "Epoch 8/100\n",
      "940/940 [==============================] - 3s 3ms/sample - loss: 0.0031\n",
      "Epoch 9/100\n",
      "940/940 [==============================] - 3s 3ms/sample - loss: 0.0027\n",
      "Epoch 10/100\n",
      "940/940 [==============================] - 3s 4ms/sample - loss: 0.0031\n",
      "Epoch 11/100\n",
      "940/940 [==============================] - 3s 4ms/sample - loss: 0.0033\n",
      "Epoch 12/100\n",
      "940/940 [==============================] - 3s 4ms/sample - loss: 0.0025\n",
      "Epoch 13/100\n",
      "940/940 [==============================] - 3s 4ms/sample - loss: 0.0038\n",
      "Epoch 14/100\n",
      "940/940 [==============================] - 3s 4ms/sample - loss: 0.0027\n",
      "Epoch 15/100\n",
      "940/940 [==============================] - 3s 4ms/sample - loss: 0.0024\n",
      "Epoch 16/100\n",
      "940/940 [==============================] - 3s 3ms/sample - loss: 0.0024\n",
      "Epoch 17/100\n",
      "940/940 [==============================] - 3s 3ms/sample - loss: 0.0026\n",
      "Epoch 18/100\n",
      "940/940 [==============================] - 3s 3ms/sample - loss: 0.0023\n",
      "Epoch 19/100\n",
      "940/940 [==============================] - 3s 3ms/sample - loss: 0.0023\n",
      "Epoch 20/100\n",
      "940/940 [==============================] - 3s 3ms/sample - loss: 0.0022\n",
      "Epoch 21/100\n",
      "940/940 [==============================] - 3s 3ms/sample - loss: 0.0019\n",
      "Epoch 22/100\n",
      "940/940 [==============================] - 3s 3ms/sample - loss: 0.0020\n",
      "Epoch 23/100\n",
      "940/940 [==============================] - 3s 3ms/sample - loss: 0.0023\n",
      "Epoch 24/100\n",
      "940/940 [==============================] - 3s 3ms/sample - loss: 0.0020\n",
      "Epoch 25/100\n",
      "940/940 [==============================] - 3s 3ms/sample - loss: 0.0027\n",
      "Epoch 26/100\n",
      "940/940 [==============================] - 3s 3ms/sample - loss: 0.0021\n",
      "Epoch 27/100\n",
      "940/940 [==============================] - 3s 3ms/sample - loss: 0.0021\n",
      "Epoch 28/100\n",
      "940/940 [==============================] - 3s 3ms/sample - loss: 0.0025\n",
      "Epoch 29/100\n",
      "940/940 [==============================] - 3s 3ms/sample - loss: 0.0019\n",
      "Epoch 30/100\n",
      "940/940 [==============================] - 3s 3ms/sample - loss: 0.0024\n",
      "Epoch 31/100\n",
      "940/940 [==============================] - 3s 3ms/sample - loss: 0.0025\n",
      "Epoch 32/100\n",
      "940/940 [==============================] - 3s 3ms/sample - loss: 0.0022\n",
      "Epoch 33/100\n",
      "940/940 [==============================] - 3s 3ms/sample - loss: 0.0023\n",
      "Epoch 34/100\n",
      "940/940 [==============================] - 3s 3ms/sample - loss: 0.0022\n",
      "Epoch 35/100\n",
      "940/940 [==============================] - 3s 3ms/sample - loss: 0.0020\n",
      "Epoch 36/100\n",
      "940/940 [==============================] - 3s 3ms/sample - loss: 0.0020\n",
      "Epoch 37/100\n",
      "940/940 [==============================] - 3s 3ms/sample - loss: 0.0019\n",
      "Epoch 38/100\n",
      "940/940 [==============================] - 3s 3ms/sample - loss: 0.0023\n",
      "Epoch 39/100\n",
      "940/940 [==============================] - 3s 3ms/sample - loss: 0.0018\n",
      "Epoch 40/100\n",
      "940/940 [==============================] - 3s 3ms/sample - loss: 0.0018\n",
      "Epoch 41/100\n",
      "940/940 [==============================] - 3s 3ms/sample - loss: 0.0018\n",
      "Epoch 42/100\n",
      "940/940 [==============================] - 3s 3ms/sample - loss: 0.0019\n",
      "Epoch 43/100\n",
      "940/940 [==============================] - 3s 3ms/sample - loss: 0.0017\n",
      "Epoch 44/100\n",
      "940/940 [==============================] - 3s 4ms/sample - loss: 0.0020\n",
      "Epoch 45/100\n",
      "940/940 [==============================] - 3s 4ms/sample - loss: 0.0018\n",
      "Epoch 46/100\n",
      "940/940 [==============================] - 3s 4ms/sample - loss: 0.0018\n",
      "Epoch 47/100\n",
      "940/940 [==============================] - 3s 4ms/sample - loss: 0.0017\n",
      "Epoch 48/100\n",
      "940/940 [==============================] - 3s 4ms/sample - loss: 0.0015\n",
      "Epoch 49/100\n",
      "940/940 [==============================] - 3s 4ms/sample - loss: 0.0021\n",
      "Epoch 50/100\n",
      "940/940 [==============================] - 3s 4ms/sample - loss: 0.0019\n",
      "Epoch 51/100\n",
      "940/940 [==============================] - 3s 4ms/sample - loss: 0.0019\n",
      "Epoch 52/100\n",
      "940/940 [==============================] - 3s 4ms/sample - loss: 0.0018\n",
      "Epoch 53/100\n",
      "940/940 [==============================] - 3s 4ms/sample - loss: 0.0020\n",
      "Epoch 54/100\n",
      "940/940 [==============================] - 3s 3ms/sample - loss: 0.0016\n",
      "Epoch 55/100\n",
      "940/940 [==============================] - 3s 3ms/sample - loss: 0.0018\n",
      "Epoch 56/100\n",
      "940/940 [==============================] - 3s 3ms/sample - loss: 0.0017\n",
      "Epoch 57/100\n",
      "940/940 [==============================] - 3s 3ms/sample - loss: 0.0018\n",
      "Epoch 58/100\n",
      "940/940 [==============================] - 3s 3ms/sample - loss: 0.0015 0s - loss: 0\n",
      "Epoch 59/100\n",
      "940/940 [==============================] - 3s 3ms/sample - loss: 0.0013\n",
      "Epoch 60/100\n",
      "940/940 [==============================] - 3s 3ms/sample - loss: 0.0016\n",
      "Epoch 61/100\n",
      "940/940 [==============================] - 3s 3ms/sample - loss: 0.0016\n",
      "Epoch 62/100\n",
      "940/940 [==============================] - 3s 3ms/sample - loss: 0.0016\n",
      "Epoch 63/100\n",
      "940/940 [==============================] - 3s 3ms/sample - loss: 0.0013\n",
      "Epoch 64/100\n",
      "940/940 [==============================] - 3s 3ms/sample - loss: 0.0015\n",
      "Epoch 65/100\n",
      "940/940 [==============================] - 3s 3ms/sample - loss: 0.0017\n",
      "Epoch 66/100\n",
      "940/940 [==============================] - 3s 3ms/sample - loss: 0.0014\n",
      "Epoch 67/100\n",
      "940/940 [==============================] - 3s 3ms/sample - loss: 0.0014\n",
      "Epoch 68/100\n",
      "940/940 [==============================] - 3s 3ms/sample - loss: 0.0014\n",
      "Epoch 69/100\n",
      "940/940 [==============================] - 3s 3ms/sample - loss: 0.0016\n",
      "Epoch 70/100\n",
      "940/940 [==============================] - 3s 3ms/sample - loss: 0.0015\n",
      "Epoch 71/100\n",
      "940/940 [==============================] - 3s 3ms/sample - loss: 0.0016\n",
      "Epoch 72/100\n",
      "940/940 [==============================] - 3s 3ms/sample - loss: 0.0018\n",
      "Epoch 73/100\n",
      "940/940 [==============================] - 3s 3ms/sample - loss: 0.0015\n",
      "Epoch 74/100\n",
      "940/940 [==============================] - 3s 3ms/sample - loss: 0.0016\n",
      "Epoch 75/100\n",
      "940/940 [==============================] - 3s 3ms/sample - loss: 0.0014\n",
      "Epoch 76/100\n",
      "940/940 [==============================] - 3s 3ms/sample - loss: 0.0013\n",
      "Epoch 77/100\n",
      "940/940 [==============================] - 3s 3ms/sample - loss: 0.0014\n",
      "Epoch 78/100\n",
      "940/940 [==============================] - 3s 3ms/sample - loss: 0.0015\n",
      "Epoch 79/100\n",
      "940/940 [==============================] - 3s 3ms/sample - loss: 0.0015\n",
      "Epoch 80/100\n",
      "940/940 [==============================] - 3s 3ms/sample - loss: 0.0013\n",
      "Epoch 81/100\n",
      "940/940 [==============================] - 3s 3ms/sample - loss: 0.0015\n",
      "Epoch 82/100\n",
      "940/940 [==============================] - 3s 3ms/sample - loss: 0.0013\n",
      "Epoch 83/100\n",
      "940/940 [==============================] - 3s 4ms/sample - loss: 0.0014\n",
      "Epoch 84/100\n",
      "940/940 [==============================] - 4s 4ms/sample - loss: 0.0017\n",
      "Epoch 85/100\n",
      "940/940 [==============================] - 4s 4ms/sample - loss: 0.0013\n",
      "Epoch 86/100\n",
      "940/940 [==============================] - 3s 4ms/sample - loss: 0.0014\n",
      "Epoch 87/100\n",
      "940/940 [==============================] - 3s 4ms/sample - loss: 0.0015\n",
      "Epoch 88/100\n",
      "940/940 [==============================] - 3s 4ms/sample - loss: 0.0013\n",
      "Epoch 89/100\n",
      "940/940 [==============================] - 3s 4ms/sample - loss: 0.0015\n",
      "Epoch 90/100\n",
      "940/940 [==============================] - 3s 4ms/sample - loss: 0.0013\n",
      "Epoch 91/100\n",
      "940/940 [==============================] - 3s 4ms/sample - loss: 0.0015\n",
      "Epoch 92/100\n",
      "940/940 [==============================] - 4s 4ms/sample - loss: 0.0014\n",
      "Epoch 93/100\n",
      "940/940 [==============================] - 3s 3ms/sample - loss: 0.0014\n",
      "Epoch 94/100\n",
      "940/940 [==============================] - 3s 3ms/sample - loss: 0.0012\n",
      "Epoch 95/100\n",
      "940/940 [==============================] - 3s 3ms/sample - loss: 0.0014\n",
      "Epoch 96/100\n",
      "940/940 [==============================] - 3s 3ms/sample - loss: 0.0012\n",
      "Epoch 97/100\n"
     ]
    },
    {
     "name": "stdout",
     "output_type": "stream",
     "text": [
      "940/940 [==============================] - ETA: 0s - loss: 0.001 - 3s 3ms/sample - loss: 0.0013\n",
      "Epoch 98/100\n",
      "940/940 [==============================] - 3s 3ms/sample - loss: 0.0014\n",
      "Epoch 99/100\n",
      "940/940 [==============================] - 3s 3ms/sample - loss: 0.0011\n",
      "Epoch 100/100\n",
      "940/940 [==============================] - 3s 3ms/sample - loss: 0.0013\n"
     ]
    },
    {
     "data": {
      "text/plain": [
       "<tensorflow.python.keras.callbacks.History at 0x20d198f9e88>"
      ]
     },
     "execution_count": 157,
     "metadata": {},
     "output_type": "execute_result"
    }
   ],
   "source": [
    "regressor.fit(X_train,y_train,epochs=100,batch_size=32)"
   ]
  },
  {
   "cell_type": "code",
   "execution_count": 162,
   "metadata": {},
   "outputs": [],
   "source": [
    "total_stock_dataset = dataset['Open']"
   ]
  },
  {
   "cell_type": "code",
   "execution_count": 163,
   "metadata": {},
   "outputs": [],
   "source": [
    "inputs = total_stock_dataset[len(total_stock_dataset)-len(testing_set)-60:].values"
   ]
  },
  {
   "cell_type": "code",
   "execution_count": 166,
   "metadata": {},
   "outputs": [],
   "source": [
    "inputs = inputs.reshape(-1,1)"
   ]
  },
  {
   "cell_type": "code",
   "execution_count": 168,
   "metadata": {},
   "outputs": [],
   "source": [
    "inputs = sc.transform(inputs)"
   ]
  },
  {
   "cell_type": "code",
   "execution_count": 173,
   "metadata": {},
   "outputs": [],
   "source": [
    "X_test = []\n",
    "for i in range(60,len(inputs)):\n",
    "    X_test.append(inputs[i-60:i,0])"
   ]
  },
  {
   "cell_type": "code",
   "execution_count": 174,
   "metadata": {},
   "outputs": [],
   "source": [
    "X_test = np.array(X_test)\n",
    "X_test = np.reshape(X_test,(X_test.shape[0],X_test.shape[1],1))"
   ]
  },
  {
   "cell_type": "code",
   "execution_count": 175,
   "metadata": {},
   "outputs": [],
   "source": [
    "predicted_stocks = regressor.predict(X_test)"
   ]
  },
  {
   "cell_type": "code",
   "execution_count": 176,
   "metadata": {},
   "outputs": [],
   "source": [
    "predicted_stocks = sc.inverse_transform(predicted_stocks)"
   ]
  },
  {
   "cell_type": "code",
   "execution_count": 186,
   "metadata": {},
   "outputs": [
    {
     "data": {
      "image/png": "[encoded data removed]",
      "text/plain": [
       "<Figure size 432x288 with 1 Axes>"
      ]
     },
     "metadata": {
      "needs_background": "light"
     },
     "output_type": "display_data"
    }
   ],
   "source": [
    "plt.plot(testing_set,color='red',label='real stock price')\n",
    "plt.plot(predicted_stocks,color='blue',label='predicted stock price')\n",
    "plt.title('Microsoft stock price predcition')\n",
    "plt.xlabel('time')\n",
    "plt.ylabel('stock price')\n",
    "plt.legend()\n",
    "plt.show()"
   ]
  },
  {
   "cell_type": "code",
   "execution_count": 185,
   "metadata": {},
   "outputs": [
    {
     "data": {
      "text/plain": [
       "(259, 259)"
      ]
     },
     "execution_count": 185,
     "metadata": {},
     "output_type": "execute_result"
    }
   ],
   "source": [
    "len(testing_set),len(predicted_stocks)"
   ]
  },
  {
   "cell_type": "code",
   "execution_count": null,
   "metadata": {},
   "outputs": [],
   "source": []
  }
 ],
 "metadata": {
  "kernelspec": {
   "display_name": "Python 3",
   "language": "python",
   "name": "python3"
  },
  "language_info": {
   "codemirror_mode": {
    "name": "ipython",
    "version": 3
   },
   "file_extension": ".py",
   "mimetype": "text/x-python",
   "name": "python",
   "nbconvert_exporter": "python",
   "pygments_lexer": "ipython3",
   "version": "3.7.7"
  }
 },
 "nbformat": 4,
 "nbformat_minor": 4
}
